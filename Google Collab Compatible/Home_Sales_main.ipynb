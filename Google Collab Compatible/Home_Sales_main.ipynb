{
 "cells": [
  {
   "cell_type": "code",
   "execution_count": 1,
   "metadata": {
    "id": "a_KW73O2e3dw"
   },
   "outputs": [],
   "source": [
    "## Import findspark and initialize.\n",
    "# import findspark\n",
    "# findspark.init()"
   ]
  },
  {
   "cell_type": "code",
   "execution_count": 1,
   "metadata": {
    "colab": {
     "base_uri": "https://localhost:8080/"
    },
    "id": "1X9_nmFTUx8q",
    "outputId": "e343b12f-07df-468e-f254-a5e16b7670c6"
   },
   "outputs": [
    {
     "name": "stdout",
     "output_type": "stream",
     "text": [
      "Collecting pyspark\n",
      "  Downloading pyspark-3.5.0.tar.gz (316.9 MB)\n",
      "\u001b[2K     \u001b[90m━━━━━━━━━━━━━━━━━━━━━━━━━━━━━━━━━━━━━━━━\u001b[0m \u001b[32m316.9/316.9 MB\u001b[0m \u001b[31m3.1 MB/s\u001b[0m eta \u001b[36m0:00:00\u001b[0m\n",
      "\u001b[?25h  Preparing metadata (setup.py) ... \u001b[?25l\u001b[?25hdone\n",
      "Requirement already satisfied: py4j==0.10.9.7 in /usr/local/lib/python3.10/dist-packages (from pyspark) (0.10.9.7)\n",
      "Building wheels for collected packages: pyspark\n",
      "  Building wheel for pyspark (setup.py) ... \u001b[?25l\u001b[?25hdone\n",
      "  Created wheel for pyspark: filename=pyspark-3.5.0-py2.py3-none-any.whl size=317425344 sha256=b50d5669c801aa95dec06cd9f1fa31be58cecb4f62e285a9999cb194e053ab47\n",
      "  Stored in directory: /root/.cache/pip/wheels/41/4e/10/c2cf2467f71c678cfc8a6b9ac9241e5e44a01940da8fbb17fc\n",
      "Successfully built pyspark\n",
      "Installing collected packages: pyspark\n",
      "Successfully installed pyspark-3.5.0\n"
     ]
    }
   ],
   "source": [
    "## Temporary install of Pyspark\n",
    "! pip install pyspark"
   ]
  },
  {
   "cell_type": "code",
   "execution_count": 2,
   "metadata": {
    "id": "2XbWNf1Te5fM"
   },
   "outputs": [],
   "source": [
    "# Import packages\n",
    "from pyspark.sql import SparkSession\n",
    "import time\n",
    "\n",
    "# Create a SparkSession\n",
    "spark = SparkSession.builder.appName(\"SparkSQL\").getOrCreate()"
   ]
  },
  {
   "cell_type": "code",
   "execution_count": 3,
   "metadata": {
    "colab": {
     "base_uri": "https://localhost:8080/"
    },
    "id": "wOJqxG_RPSwp",
    "outputId": "ee03e806-62d0-4215-ec8b-d4bf57201155"
   },
   "outputs": [
    {
     "name": "stdout",
     "output_type": "stream",
     "text": [
      "+--------------------+----------+----------+------+--------+---------+-----------+--------+------+----------+----+\n",
      "|                  id|      date|date_built| price|bedrooms|bathrooms|sqft_living|sqft_lot|floors|waterfront|view|\n",
      "+--------------------+----------+----------+------+--------+---------+-----------+--------+------+----------+----+\n",
      "|f8a53099-ba1c-47d...|2022-04-08|      2016|936923|       4|        3|       3167|   11733|     2|         1|  76|\n",
      "|7530a2d8-1ae3-451...|2021-06-13|      2013|379628|       2|        2|       2235|   14384|     1|         0|  23|\n",
      "|43de979c-0bf0-4c9...|2019-04-12|      2014|417866|       2|        2|       2127|   10575|     2|         0|   0|\n",
      "|b672c137-b88c-48b...|2019-10-16|      2016|239895|       2|        2|       1631|   11149|     2|         0|   0|\n",
      "|e0726d4d-d595-407...|2022-01-08|      2017|424418|       3|        2|       2249|   13878|     2|         0|   4|\n",
      "|5aa00529-0533-46b...|2019-01-30|      2017|218712|       2|        3|       1965|   14375|     2|         0|   7|\n",
      "|131492a1-72e2-4a8...|2020-02-08|      2017|419199|       2|        3|       2062|    8876|     2|         0|   6|\n",
      "|8d54a71b-c520-44e...|2019-07-21|      2010|323956|       2|        3|       1506|   11816|     1|         0|  25|\n",
      "|e81aacfe-17fe-46b...|2020-06-16|      2016|181925|       3|        3|       2137|   11709|     2|         0|  22|\n",
      "|2ed8d509-7372-46d...|2021-08-06|      2015|258710|       3|        3|       1918|    9666|     1|         0|  25|\n",
      "|f876d86f-3c9f-42b...|2019-02-27|      2011|167864|       3|        3|       2471|   13924|     2|         0|  15|\n",
      "|0a2bd445-8508-4d8...|2021-12-30|      2014|337527|       2|        3|       1926|   12556|     1|         0|  23|\n",
      "|941bad30-eb49-4a7...|2020-05-09|      2015|229896|       3|        3|       2197|    8641|     1|         0|   3|\n",
      "|dd61eb34-6589-4c0...|2021-07-25|      2016|210247|       3|        2|       1672|   11986|     2|         0|  28|\n",
      "|f1e4cef7-d151-439...|2019-02-01|      2011|398667|       2|        3|       2331|   11356|     1|         0|   7|\n",
      "|ea620c7b-c2f7-4c6...|2021-05-31|      2011|437958|       3|        3|       2356|   11052|     1|         0|  26|\n",
      "|f233cb41-6f33-4b0...|2021-07-18|      2016|437375|       4|        3|       1704|   11721|     2|         0|  34|\n",
      "|c797ca12-52cd-4b1...|2019-06-08|      2015|288650|       2|        3|       2100|   10419|     2|         0|   7|\n",
      "|0cfe57f3-28c2-472...|2019-10-04|      2015|308313|       3|        3|       1960|    9453|     2|         0|   2|\n",
      "|4566cd2a-ac6e-435...|2019-07-15|      2016|177541|       3|        3|       2130|   10517|     2|         0|  25|\n",
      "+--------------------+----------+----------+------+--------+---------+-----------+--------+------+----------+----+\n",
      "only showing top 20 rows\n",
      "\n"
     ]
    }
   ],
   "source": [
    "# 1. Read in the AWS S3 bucket into a DataFrame.\n",
    "from pyspark import SparkFiles\n",
    "url = \"https://2u-data-curriculum-team.s3.amazonaws.com/dataviz-classroom/v1.2/22-big-data/home_sales_revised.csv\"\n",
    "spark.sparkContext.addFile(url)\n",
    "\n",
    "h_sales_data = spark.read.csv(SparkFiles.get(\"home_sales_revised.csv\"), inferSchema=True, sep=',', header=True, timestampFormat=\"mm/dd/yy\")\n",
    "h_sales_data.show()\n"
   ]
  },
  {
   "cell_type": "code",
   "execution_count": 4,
   "metadata": {
    "id": "RoljcJ7WPpnm"
   },
   "outputs": [],
   "source": [
    "# 2. Create a temporary view of the DataFrame.\n",
    "h_sales_data.createOrReplaceTempView('home_sales')"
   ]
  },
  {
   "cell_type": "code",
   "execution_count": 5,
   "metadata": {
    "colab": {
     "base_uri": "https://localhost:8080/"
    },
    "id": "L6fkwOeOmqvq",
    "outputId": "639c5688-1949-40e2-f17d-a184ab69a377"
   },
   "outputs": [
    {
     "name": "stdout",
     "output_type": "stream",
     "text": [
      "+----------+--------------------+\n",
      "|year(date)|round(avg(price), 2)|\n",
      "+----------+--------------------+\n",
      "|      2019|            300263.7|\n",
      "|      2020|           298353.78|\n",
      "|      2021|           301819.44|\n",
      "|      2022|           296363.88|\n",
      "+----------+--------------------+\n",
      "\n"
     ]
    }
   ],
   "source": [
    "# 3. What is the average price for a four bedroom house sold in each year rounded to two decimal places?\n",
    "bed_4_avg_p = spark.sql(\"SELECT YEAR(date), ROUND(AVG(price),2) from home_sales where bedrooms == 4 group by YEAR(date) ORDER BY YEAR(date) ASC\")\n",
    "bed_4_avg_p.show()"
   ]
  },
  {
   "cell_type": "code",
   "execution_count": 6,
   "metadata": {
    "colab": {
     "base_uri": "https://localhost:8080/"
    },
    "id": "l8p_tUS8h8it",
    "outputId": "be9c2c90-b9b8-4533-fef1-091de16f22d1"
   },
   "outputs": [
    {
     "name": "stdout",
     "output_type": "stream",
     "text": [
      "+----------+--------------------+\n",
      "|date_built|round(avg(price), 2)|\n",
      "+----------+--------------------+\n",
      "|      2010|           292859.62|\n",
      "|      2011|           291117.47|\n",
      "|      2012|           293683.19|\n",
      "|      2013|           295962.27|\n",
      "|      2014|           290852.27|\n",
      "|      2015|            288770.3|\n",
      "|      2016|           290555.07|\n",
      "|      2017|           292676.79|\n",
      "+----------+--------------------+\n",
      "\n"
     ]
    }
   ],
   "source": [
    "# 4. What is the average price of a home for each year the home was built that have 3 bedrooms and 3 bathrooms rounded to two decimal places?\n",
    "bed_3_bath_3_avg_p = spark.sql(\"SELECT date_built, ROUND(AVG(price),2) from home_sales where bedrooms == 3 AND bathrooms == 3 group by date_built ORDER BY date_built ASC\")\n",
    "bed_3_bath_3_avg_p.show()"
   ]
  },
  {
   "cell_type": "code",
   "execution_count": 7,
   "metadata": {
    "colab": {
     "base_uri": "https://localhost:8080/"
    },
    "id": "Y-Eytz64liDU",
    "outputId": "ecec6777-053d-410d-f9b9-c4b569d9d68b"
   },
   "outputs": [
    {
     "name": "stdout",
     "output_type": "stream",
     "text": [
      "+----------+--------------------+\n",
      "|date_built|round(avg(price), 2)|\n",
      "+----------+--------------------+\n",
      "|      2010|           285010.22|\n",
      "|      2011|           276553.81|\n",
      "|      2012|           307539.97|\n",
      "|      2013|           303676.79|\n",
      "|      2014|           298264.72|\n",
      "|      2015|           297609.97|\n",
      "|      2016|            293965.1|\n",
      "|      2017|           280317.58|\n",
      "+----------+--------------------+\n",
      "\n"
     ]
    }
   ],
   "source": [
    "_#  5. What is the average price of a home for each year built that have 3 bedrooms, 3 bathrooms, with two floors,\n",
    "# and are greater than or equal to 2,000 square feet rounded to two decimal places?\n",
    "\n",
    "avg_p_2floor_3_bed_3_bath = \"\"\"\n",
    "SELECT\n",
    "date_built, ROUND(AVG(price), 2)\n",
    "FROM home_sales\n",
    "WHERE bedrooms = 3\n",
    "and bathrooms = 3\n",
    "and sqft_living >= 2000\n",
    "and floors = 2\n",
    "GROUP BY date_built\n",
    "ORDER BY date_built ASC\n",
    "\"\"\"\n",
    "spark.sql(avg_p_2floor_3_bed_3_bath).show()\n"
   ]
  },
  {
   "cell_type": "code",
   "execution_count": 8,
   "metadata": {
    "colab": {
     "base_uri": "https://localhost:8080/"
    },
    "id": "GUrfgOX1pCRd",
    "outputId": "9a0ab083-6357-4b3c-8938-cd969987a4f4"
   },
   "outputs": [
    {
     "name": "stdout",
     "output_type": "stream",
     "text": [
      "+----+--------------------+\n",
      "|view|round(avg(price), 2)|\n",
      "+----+--------------------+\n",
      "|  85|          1056336.74|\n",
      "|  65|           736679.93|\n",
      "|  53|            755214.8|\n",
      "|  78|          1080649.37|\n",
      "|  81|          1053472.79|\n",
      "|  76|          1058802.78|\n",
      "|  91|          1137372.73|\n",
      "|  93|          1026006.06|\n",
      "|  52|           733780.26|\n",
      "|  86|          1070444.25|\n",
      "|  94|           1033536.2|\n",
      "|  57|            734340.5|\n",
      "|  54|           798684.82|\n",
      "|  96|          1017815.92|\n",
      "|  92|           970402.55|\n",
      "|  64|           767036.67|\n",
      "|  61|           746877.59|\n",
      "|  88|          1031719.35|\n",
      "|  72|           780914.67|\n",
      "|  59|            791453.0|\n",
      "+----+--------------------+\n",
      "only showing top 20 rows\n",
      "\n",
      "--- 0.9523272514343262 seconds ---\n"
     ]
    }
   ],
   "source": [
    "# 6. What is the \"view\" rating for the average price of a home, rounded to two decimal places, where the homes are greater than\n",
    "# or equal to $350,000? Although this is a small dataset, determine the run time for this query.\n",
    "\n",
    "start_time = time.time()\n",
    "\n",
    "spark.sql(\"SELECT view, ROUND(AVG(price),2) from home_sales group by view having ROUND(AVG(price),2) >= 350000\").show()\n",
    "\n",
    "print(\"--- %s seconds ---\" % (time.time() - start_time))"
   ]
  },
  {
   "cell_type": "code",
   "execution_count": 9,
   "metadata": {
    "id": "KAhk3ZD2tFy8"
   },
   "outputs": [],
   "source": [
    "# 7. Cache the the temporary table home_sales.\n",
    "spark.catalog.cacheTable(\"home_sales\")"
   ]
  },
  {
   "cell_type": "code",
   "execution_count": 10,
   "metadata": {
    "colab": {
     "base_uri": "https://localhost:8080/"
    },
    "id": "4opVhbvxtL-i",
    "outputId": "fa46d15b-207f-41d5-ef74-51a039359c24"
   },
   "outputs": [
    {
     "data": {
      "text/plain": [
       "True"
      ]
     },
     "execution_count": 10,
     "metadata": {},
     "output_type": "execute_result"
    }
   ],
   "source": [
    "# 8. Check if the table is cached.\n",
    "spark.catalog.isCached('home_sales')"
   ]
  },
  {
   "cell_type": "code",
   "execution_count": 11,
   "metadata": {
    "colab": {
     "base_uri": "https://localhost:8080/"
    },
    "id": "5GnL46lwTSEk",
    "outputId": "7b9ffab0-3742-4a29-a815-dfff74b3af5e"
   },
   "outputs": [
    {
     "name": "stdout",
     "output_type": "stream",
     "text": [
      "+----+--------------------+\n",
      "|view|round(avg(price), 2)|\n",
      "+----+--------------------+\n",
      "|  85|          1056336.74|\n",
      "|  65|           736679.93|\n",
      "|  53|            755214.8|\n",
      "|  78|          1080649.37|\n",
      "|  81|          1053472.79|\n",
      "|  76|          1058802.78|\n",
      "|  91|          1137372.73|\n",
      "|  93|          1026006.06|\n",
      "|  52|           733780.26|\n",
      "|  86|          1070444.25|\n",
      "|  94|           1033536.2|\n",
      "|  57|            734340.5|\n",
      "|  54|           798684.82|\n",
      "|  96|          1017815.92|\n",
      "|  92|           970402.55|\n",
      "|  64|           767036.67|\n",
      "|  61|           746877.59|\n",
      "|  88|          1031719.35|\n",
      "|  72|           780914.67|\n",
      "|  59|            791453.0|\n",
      "+----+--------------------+\n",
      "only showing top 20 rows\n",
      "\n",
      "--- 3.4318325519561768 seconds ---\n"
     ]
    }
   ],
   "source": [
    "# 9. Using the cached data, run the query that filters out the view ratings with average price\n",
    "#  greater than or equal to $350,000. Determine the runtime and compare it to uncached runtime.\n",
    "\n",
    "start_time = time.time()\n",
    "\n",
    "spark.sql(\"SELECT view, ROUND(AVG(price),2) from home_sales group by view having ROUND(AVG(price),2) >= 350000\").show()\n",
    "\n",
    "print(\"--- %s seconds ---\" % (time.time() - start_time))\n"
   ]
  },
  {
   "cell_type": "code",
   "execution_count": 12,
   "metadata": {
    "id": "Qm12WN9isHBR"
   },
   "outputs": [],
   "source": [
    "# 10. Partition by the \"date_built\" field on the formatted parquet home sales data\n",
    "\n",
    "h_sales_data.write.partitionBy('date_built').parquet('home_sales_parquet',mode='overwrite')"
   ]
  },
  {
   "cell_type": "code",
   "execution_count": 13,
   "metadata": {
    "id": "AZ7BgY61sRqY"
   },
   "outputs": [],
   "source": [
    "# 11. Read the formatted parquet data.\n",
    "parquet_df = spark.read.parquet('home_sales_parquet')"
   ]
  },
  {
   "cell_type": "code",
   "execution_count": 14,
   "metadata": {
    "id": "J6MJkHfvVcvh"
   },
   "outputs": [],
   "source": [
    "# 12. Create a temporary table for the parquet data.\n",
    "parquet_df.createOrReplaceTempView('temp_home_sales_parquet')"
   ]
  },
  {
   "cell_type": "code",
   "execution_count": 15,
   "metadata": {
    "colab": {
     "base_uri": "https://localhost:8080/"
    },
    "id": "G_Vhb52rU1Sn",
    "outputId": "b3017499-5205-4447-f9f0-bc12f33b6d2e"
   },
   "outputs": [
    {
     "name": "stdout",
     "output_type": "stream",
     "text": [
      "+----+--------------------+\n",
      "|view|round(avg(price), 2)|\n",
      "+----+--------------------+\n",
      "|  85|          1056336.74|\n",
      "|  65|           736679.93|\n",
      "|  53|            755214.8|\n",
      "|  78|          1080649.37|\n",
      "|  81|          1053472.79|\n",
      "|  76|          1058802.78|\n",
      "|  91|          1137372.73|\n",
      "|  93|          1026006.06|\n",
      "|  52|           733780.26|\n",
      "|  86|          1070444.25|\n",
      "|  94|           1033536.2|\n",
      "|  57|            734340.5|\n",
      "|  54|           798684.82|\n",
      "|  96|          1017815.92|\n",
      "|  92|           970402.55|\n",
      "|  64|           767036.67|\n",
      "|  61|           746877.59|\n",
      "|  88|          1031719.35|\n",
      "|  72|           780914.67|\n",
      "|  55|           771153.32|\n",
      "+----+--------------------+\n",
      "only showing top 20 rows\n",
      "\n",
      "--- 1.7989192008972168 seconds ---\n"
     ]
    }
   ],
   "source": [
    "# 13. Run the query that filters out the view ratings with average price of greater than or eqaul to $350,000\n",
    "# with the parquet DataFrame. Round your average to two decimal places.\n",
    "# Determine the runtime and compare it to the cached version.\n",
    "\n",
    "start_time = time.time()\n",
    "\n",
    "spark.sql(\"SELECT view, ROUND(AVG(price),2) from temp_home_sales_parquet group by view having ROUND(AVG(price),2) >= 350000\").show()\n",
    "\n",
    "print(\"--- %s seconds ---\" % (time.time() - start_time))"
   ]
  },
  {
   "cell_type": "code",
   "execution_count": 16,
   "metadata": {
    "id": "hjjYzQGjtbq8"
   },
   "outputs": [],
   "source": [
    "# 14. Uncache the home_sales temporary table.\n",
    "spark.catalog.uncacheTable(\"home_sales\")"
   ]
  },
  {
   "cell_type": "code",
   "execution_count": 17,
   "metadata": {
    "colab": {
     "base_uri": "https://localhost:8080/"
    },
    "id": "Sy9NBvO7tlmm",
    "outputId": "bdd2b46e-1c85-4750-9cef-ced54fac70d7"
   },
   "outputs": [
    {
     "data": {
      "text/plain": [
       "False"
      ]
     },
     "execution_count": 17,
     "metadata": {},
     "output_type": "execute_result"
    }
   ],
   "source": [
    "# 15. Check if the home_sales is no longer cached\n",
    "spark.catalog.isCached(\"home_sales\")\n"
   ]
  },
  {
   "cell_type": "code",
   "execution_count": null,
   "metadata": {
    "id": "lkb43OmcUnWB"
   },
   "outputs": [],
   "source": []
  }
 ],
 "metadata": {
  "colab": {
   "provenance": []
  },
  "kernelspec": {
   "display_name": "Python 3 (ipykernel)",
   "language": "python",
   "name": "python3"
  },
  "language_info": {
   "codemirror_mode": {
    "name": "ipython",
    "version": 3
   },
   "file_extension": ".py",
   "mimetype": "text/x-python",
   "name": "python",
   "nbconvert_exporter": "python",
   "pygments_lexer": "ipython3",
   "version": "3.10.9"
  },
  "nteract": {
   "version": "0.28.0"
  }
 },
 "nbformat": 4,
 "nbformat_minor": 1
}
